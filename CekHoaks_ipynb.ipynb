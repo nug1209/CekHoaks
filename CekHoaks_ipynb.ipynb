{
  "nbformat": 4,
  "nbformat_minor": 0,
  "metadata": {
    "colab": {
      "provenance": [],
      "authorship_tag": "ABX9TyPDo/RztoEQVl+7uMl9KAc+",
      "include_colab_link": true
    },
    "kernelspec": {
      "name": "python3",
      "display_name": "Python 3"
    },
    "language_info": {
      "name": "python"
    }
  },
  "cells": [
    {
      "cell_type": "markdown",
      "metadata": {
        "id": "view-in-github",
        "colab_type": "text"
      },
      "source": [
        "<a href=\"https://colab.research.google.com/github/nug1209/Cek_Hoaks/blob/main/CekHoaks_ipynb.ipynb\" target=\"_parent\"><img src=\"https://colab.research.google.com/assets/colab-badge.svg\" alt=\"Open In Colab\"/></a>"
      ]
    },
    {
      "cell_type": "code",
      "execution_count": 122,
      "metadata": {
        "id": "_0j-kW8dGYwK"
      },
      "outputs": [],
      "source": [
        "# !pip install transformers\n",
        "# !pip install torch\n",
        "# !pip install scikit-learn\n",
        "\n",
        "import pandas as pd\n",
        "import numpy as np\n",
        "import re\n",
        "import string\n",
        "from torch import clamp\n",
        "from transformers import AutoTokenizer, AutoModel\n",
        "from sklearn.metrics.pairwise import cosine_similarity\n",
        "from datetime import date"
      ]
    },
    {
      "cell_type": "code",
      "source": [
        "class TokenSimilarity:\n",
        "\n",
        "  def load_pretrained(self, from_pretrained:str='indobenchmark/indobert-base-p1'):\n",
        "    self.tokenizer = AutoTokenizer.from_pretrained(from_pretrained)\n",
        "    self.model = AutoModel.from_pretrained(from_pretrained)\n",
        "  \n",
        "  def __cleaning(self, text:str):\n",
        "    \n",
        "    text = text.translate(str.maketrans('', ''))\n",
        "    text = text.translate(str.maketrans('', '', string.punctuation))\n",
        "    text = re.sub(r'/s+', ' ', text).strip()\n",
        "\n",
        "    return text\n",
        "\n",
        "  def __process(self, first_token:str, second_token:str):\n",
        "\n",
        "    inputs = self.tokenizer([first_token, second_token], max_length=self.max_length, truncation=self.truncation, padding=self.padding, return_tensors='pt')\n",
        "    attention = inputs.attention_mask\n",
        "    outputs = self.model(**inputs)\n",
        "    embeddings = outputs[0]\n",
        "    embeddings = outputs.last_hidden_state\n",
        "    mask = attention.unsqueeze(-1).expand(embeddings.shape).float()\n",
        "    masked_embeddings = embeddings * mask\n",
        "    summed = masked_embeddings.sum(1)\n",
        "    counts = clamp(mask.sum(1), min = 1e-9)\n",
        "    mean_pooled = summed / counts\n",
        "\n",
        "    return mean_pooled.detach().numpy()\n",
        "\n",
        "  def predict(self, first_token:str, second_token:str, return_as_embeddings:bool=False, max_length:int=16, truncation:bool=True, padding:str='max_length'):\n",
        "    \n",
        "    self.max_length = max_length\n",
        "    self.truncation = truncation\n",
        "    self.padding = padding\n",
        "    first_token = self.__cleaning(first_token)\n",
        "    second_token = self.__cleaning(second_token)\n",
        "    mean_pooled_arr = self.__process(first_token, second_token)\n",
        "\n",
        "    if return_as_embeddings:\n",
        "      return mean_pooled_arr\n",
        "    \n",
        "    similarity = cosine_similarity([mean_pooled_arr[0]], [mean_pooled_arr[1]])\n",
        "\n",
        "    return similarity"
      ],
      "metadata": {
        "id": "VNIl8X5bGo50"
      },
      "execution_count": 123,
      "outputs": []
    },
    {
      "cell_type": "code",
      "source": [
        "model = TokenSimilarity()\n",
        "model.load_pretrained('indobenchmark/indobert-base-p2')"
      ],
      "metadata": {
        "id": "zWto8YFbG-9a"
      },
      "execution_count": 124,
      "outputs": []
    },
    {
      "cell_type": "code",
      "source": [
        "df = pd.read_csv('hoax.csv', sep=';')\n",
        "# df.head()"
      ],
      "metadata": {
        "id": "YQg_C0ziI0Up"
      },
      "execution_count": 125,
      "outputs": []
    },
    {
      "cell_type": "code",
      "source": [
        "to_check = 'barista starbucks'"
      ],
      "metadata": {
        "id": "bP84wpNoHCbR"
      },
      "execution_count": 126,
      "outputs": []
    },
    {
      "cell_type": "code",
      "source": [
        "def check_text(to_check):\n",
        "  \n",
        "  results = []\n",
        "  for i in np.arange(len(df['text'])):\n",
        "    result = model.predict(to_check, df['text'][i])\n",
        "    result = result.item()\n",
        "    results.append(result)\n",
        "\n",
        "  return results\n"
      ],
      "metadata": {
        "id": "DtAhEnKUnYri"
      },
      "execution_count": 127,
      "outputs": []
    },
    {
      "cell_type": "code",
      "source": [
        "if to_check:\n",
        "  results = check_text(to_check)  \n",
        "\n",
        "# results"
      ],
      "metadata": {
        "id": "sjZQkcixGuhJ"
      },
      "execution_count": 128,
      "outputs": []
    },
    {
      "cell_type": "code",
      "source": [
        "df['similarity'] = results\n",
        "# df.head()"
      ],
      "metadata": {
        "id": "bHTC4FdtIGGD"
      },
      "execution_count": 129,
      "outputs": []
    },
    {
      "cell_type": "code",
      "source": [
        "df['date'] = pd.to_datetime(df['date'], format='%d/%m/%Y')"
      ],
      "metadata": {
        "id": "PKHawfTHI2Rr"
      },
      "execution_count": 130,
      "outputs": []
    },
    {
      "cell_type": "code",
      "source": [
        "df = df.sort_values(by=['similarity'], ascending=False)\n",
        "df = df.reset_index(drop=True)"
      ],
      "metadata": {
        "id": "saYdX8YeJko7"
      },
      "execution_count": 131,
      "outputs": []
    },
    {
      "cell_type": "code",
      "source": [
        "today = pd.Timestamp('today')\n",
        "df['time_delta'] = (today - df['date']).dt.days"
      ],
      "metadata": {
        "id": "Y3nktJFmK3q5"
      },
      "execution_count": 132,
      "outputs": []
    },
    {
      "cell_type": "code",
      "source": [
        "df.head()"
      ],
      "metadata": {
        "colab": {
          "base_uri": "https://localhost:8080/",
          "height": 206
        },
        "id": "bzpSE45iTqqJ",
        "outputId": "97f25297-ffdd-4d59-cb03-30c7df83d023"
      },
      "execution_count": 134,
      "outputs": [
        {
          "output_type": "execute_result",
          "data": {
            "text/plain": [
              "    title   link       date  \\\n",
              "0  JUDUL2  LINK2 2023-05-16   \n",
              "1  JUDUL3  LINK3 2023-05-16   \n",
              "2  JUDUL1  LINK1 2023-05-16   \n",
              "3  JUDUL6  LINK6 2023-05-01   \n",
              "4  JUDUL7  LINK7 2023-04-16   \n",
              "\n",
              "                                                text  similarity  time_delta  \n",
              "0  [SALAH] Loker Kasir dan Barista Starbucks Impo...    0.551712          10  \n",
              "1  [SALAH] Anies Membaca buku “RAHASIA MENYIMPAN ...    0.331022          10  \n",
              "2  NARASI: “Tour 7 hari Jadwal Kunjungan Kota Yog...    0.289940          10  \n",
              "3  Cek Fakta: Hoaks Kabar Jokowi Ambil Alih Parta...    0.284268          25  \n",
              "4  [SALAH] “GANJAR PERINTAHKAN UNTUK RUSAK ATRIBU...    0.276881          40  "
            ],
            "text/html": [
              "\n",
              "  <div id=\"df-10daabd9-a117-4a79-9a2c-c1bc681b20da\">\n",
              "    <div class=\"colab-df-container\">\n",
              "      <div>\n",
              "<style scoped>\n",
              "    .dataframe tbody tr th:only-of-type {\n",
              "        vertical-align: middle;\n",
              "    }\n",
              "\n",
              "    .dataframe tbody tr th {\n",
              "        vertical-align: top;\n",
              "    }\n",
              "\n",
              "    .dataframe thead th {\n",
              "        text-align: right;\n",
              "    }\n",
              "</style>\n",
              "<table border=\"1\" class=\"dataframe\">\n",
              "  <thead>\n",
              "    <tr style=\"text-align: right;\">\n",
              "      <th></th>\n",
              "      <th>title</th>\n",
              "      <th>link</th>\n",
              "      <th>date</th>\n",
              "      <th>text</th>\n",
              "      <th>similarity</th>\n",
              "      <th>time_delta</th>\n",
              "    </tr>\n",
              "  </thead>\n",
              "  <tbody>\n",
              "    <tr>\n",
              "      <th>0</th>\n",
              "      <td>JUDUL2</td>\n",
              "      <td>LINK2</td>\n",
              "      <td>2023-05-16</td>\n",
              "      <td>[SALAH] Loker Kasir dan Barista Starbucks Impo...</td>\n",
              "      <td>0.551712</td>\n",
              "      <td>10</td>\n",
              "    </tr>\n",
              "    <tr>\n",
              "      <th>1</th>\n",
              "      <td>JUDUL3</td>\n",
              "      <td>LINK3</td>\n",
              "      <td>2023-05-16</td>\n",
              "      <td>[SALAH] Anies Membaca buku “RAHASIA MENYIMPAN ...</td>\n",
              "      <td>0.331022</td>\n",
              "      <td>10</td>\n",
              "    </tr>\n",
              "    <tr>\n",
              "      <th>2</th>\n",
              "      <td>JUDUL1</td>\n",
              "      <td>LINK1</td>\n",
              "      <td>2023-05-16</td>\n",
              "      <td>NARASI: “Tour 7 hari Jadwal Kunjungan Kota Yog...</td>\n",
              "      <td>0.289940</td>\n",
              "      <td>10</td>\n",
              "    </tr>\n",
              "    <tr>\n",
              "      <th>3</th>\n",
              "      <td>JUDUL6</td>\n",
              "      <td>LINK6</td>\n",
              "      <td>2023-05-01</td>\n",
              "      <td>Cek Fakta: Hoaks Kabar Jokowi Ambil Alih Parta...</td>\n",
              "      <td>0.284268</td>\n",
              "      <td>25</td>\n",
              "    </tr>\n",
              "    <tr>\n",
              "      <th>4</th>\n",
              "      <td>JUDUL7</td>\n",
              "      <td>LINK7</td>\n",
              "      <td>2023-04-16</td>\n",
              "      <td>[SALAH] “GANJAR PERINTAHKAN UNTUK RUSAK ATRIBU...</td>\n",
              "      <td>0.276881</td>\n",
              "      <td>40</td>\n",
              "    </tr>\n",
              "  </tbody>\n",
              "</table>\n",
              "</div>\n",
              "      <button class=\"colab-df-convert\" onclick=\"convertToInteractive('df-10daabd9-a117-4a79-9a2c-c1bc681b20da')\"\n",
              "              title=\"Convert this dataframe to an interactive table.\"\n",
              "              style=\"display:none;\">\n",
              "        \n",
              "  <svg xmlns=\"http://www.w3.org/2000/svg\" height=\"24px\"viewBox=\"0 0 24 24\"\n",
              "       width=\"24px\">\n",
              "    <path d=\"M0 0h24v24H0V0z\" fill=\"none\"/>\n",
              "    <path d=\"M18.56 5.44l.94 2.06.94-2.06 2.06-.94-2.06-.94-.94-2.06-.94 2.06-2.06.94zm-11 1L8.5 8.5l.94-2.06 2.06-.94-2.06-.94L8.5 2.5l-.94 2.06-2.06.94zm10 10l.94 2.06.94-2.06 2.06-.94-2.06-.94-.94-2.06-.94 2.06-2.06.94z\"/><path d=\"M17.41 7.96l-1.37-1.37c-.4-.4-.92-.59-1.43-.59-.52 0-1.04.2-1.43.59L10.3 9.45l-7.72 7.72c-.78.78-.78 2.05 0 2.83L4 21.41c.39.39.9.59 1.41.59.51 0 1.02-.2 1.41-.59l7.78-7.78 2.81-2.81c.8-.78.8-2.07 0-2.86zM5.41 20L4 18.59l7.72-7.72 1.47 1.35L5.41 20z\"/>\n",
              "  </svg>\n",
              "      </button>\n",
              "      \n",
              "  <style>\n",
              "    .colab-df-container {\n",
              "      display:flex;\n",
              "      flex-wrap:wrap;\n",
              "      gap: 12px;\n",
              "    }\n",
              "\n",
              "    .colab-df-convert {\n",
              "      background-color: #E8F0FE;\n",
              "      border: none;\n",
              "      border-radius: 50%;\n",
              "      cursor: pointer;\n",
              "      display: none;\n",
              "      fill: #1967D2;\n",
              "      height: 32px;\n",
              "      padding: 0 0 0 0;\n",
              "      width: 32px;\n",
              "    }\n",
              "\n",
              "    .colab-df-convert:hover {\n",
              "      background-color: #E2EBFA;\n",
              "      box-shadow: 0px 1px 2px rgba(60, 64, 67, 0.3), 0px 1px 3px 1px rgba(60, 64, 67, 0.15);\n",
              "      fill: #174EA6;\n",
              "    }\n",
              "\n",
              "    [theme=dark] .colab-df-convert {\n",
              "      background-color: #3B4455;\n",
              "      fill: #D2E3FC;\n",
              "    }\n",
              "\n",
              "    [theme=dark] .colab-df-convert:hover {\n",
              "      background-color: #434B5C;\n",
              "      box-shadow: 0px 1px 3px 1px rgba(0, 0, 0, 0.15);\n",
              "      filter: drop-shadow(0px 1px 2px rgba(0, 0, 0, 0.3));\n",
              "      fill: #FFFFFF;\n",
              "    }\n",
              "  </style>\n",
              "\n",
              "      <script>\n",
              "        const buttonEl =\n",
              "          document.querySelector('#df-10daabd9-a117-4a79-9a2c-c1bc681b20da button.colab-df-convert');\n",
              "        buttonEl.style.display =\n",
              "          google.colab.kernel.accessAllowed ? 'block' : 'none';\n",
              "\n",
              "        async function convertToInteractive(key) {\n",
              "          const element = document.querySelector('#df-10daabd9-a117-4a79-9a2c-c1bc681b20da');\n",
              "          const dataTable =\n",
              "            await google.colab.kernel.invokeFunction('convertToInteractive',\n",
              "                                                     [key], {});\n",
              "          if (!dataTable) return;\n",
              "\n",
              "          const docLinkHtml = 'Like what you see? Visit the ' +\n",
              "            '<a target=\"_blank\" href=https://colab.research.google.com/notebooks/data_table.ipynb>data table notebook</a>'\n",
              "            + ' to learn more about interactive tables.';\n",
              "          element.innerHTML = '';\n",
              "          dataTable['output_type'] = 'display_data';\n",
              "          await google.colab.output.renderOutput(dataTable, element);\n",
              "          const docLink = document.createElement('div');\n",
              "          docLink.innerHTML = docLinkHtml;\n",
              "          element.appendChild(docLink);\n",
              "        }\n",
              "      </script>\n",
              "    </div>\n",
              "  </div>\n",
              "  "
            ]
          },
          "metadata": {},
          "execution_count": 134
        }
      ]
    },
    {
      "cell_type": "markdown",
      "source": [],
      "metadata": {
        "id": "cWOgCL5sQvMF"
      }
    },
    {
      "cell_type": "code",
      "source": [
        "df.to_csv('results.csv', index=False)"
      ],
      "metadata": {
        "id": "dHUYh73Mk6I5"
      },
      "execution_count": 135,
      "outputs": []
    }
  ]
}